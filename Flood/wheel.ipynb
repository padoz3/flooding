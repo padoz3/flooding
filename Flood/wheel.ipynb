{
 "cells": [
  {
   "cell_type": "code",
   "execution_count": 26,
   "id": "1300bb85-0635-4697-bf46-36f467f69d75",
   "metadata": {},
   "outputs": [
    {
     "name": "stderr",
     "output_type": "stream",
     "text": [
      "C:\\Users\\computer\\AppData\\Local\\Temp\\ipykernel_26448\\904399722.py:23: FutureWarning: You are using `torch.load` with `weights_only=False` (the current default value), which uses the default pickle module implicitly. It is possible to construct malicious pickle data which will execute arbitrary code during unpickling (See https://github.com/pytorch/pytorch/blob/main/SECURITY.md#untrusted-models for more details). In a future release, the default value for `weights_only` will be flipped to `True`. This limits the functions that could be executed during unpickling. Arbitrary objects will no longer be allowed to be loaded via this mode unless they are explicitly allowlisted by the user via `torch.serialization.add_safe_globals`. We recommend you start setting `weights_only=True` for any use case where you don't have full control of the loaded file. Please open an issue on GitHub for any issues related to this experimental feature.\n",
      "  checkpoint = torch.load(checkpoint_path, map_location=device)\n"
     ]
    },
    {
     "ename": "RuntimeError",
     "evalue": "Error(s) in loading state_dict for VGG16Custom:\n\tMissing key(s) in state_dict: \"classifier.2.weight\", \"classifier.2.bias\", \"classifier.4.weight\", \"classifier.4.bias\". \n\tUnexpected key(s) in state_dict: \"classifier.6.weight\", \"classifier.6.bias\", \"classifier.3.weight\", \"classifier.3.bias\". ",
     "output_type": "error",
     "traceback": [
      "\u001b[1;31m---------------------------------------------------------------------------\u001b[0m",
      "\u001b[1;31mRuntimeError\u001b[0m                              Traceback (most recent call last)",
      "Cell \u001b[1;32mIn[26], line 24\u001b[0m\n\u001b[0;32m     22\u001b[0m \u001b[38;5;28;01mif\u001b[39;00m os\u001b[38;5;241m.\u001b[39mpath\u001b[38;5;241m.\u001b[39mexists(checkpoint_path):\n\u001b[0;32m     23\u001b[0m     checkpoint \u001b[38;5;241m=\u001b[39m torch\u001b[38;5;241m.\u001b[39mload(checkpoint_path, map_location\u001b[38;5;241m=\u001b[39mdevice)\n\u001b[1;32m---> 24\u001b[0m     \u001b[43mmodel\u001b[49m\u001b[38;5;241;43m.\u001b[39;49m\u001b[43mload_state_dict\u001b[49m\u001b[43m(\u001b[49m\u001b[43mcheckpoint\u001b[49m\u001b[43m[\u001b[49m\u001b[38;5;124;43m'\u001b[39;49m\u001b[38;5;124;43mmodel_state_dict\u001b[39;49m\u001b[38;5;124;43m'\u001b[39;49m\u001b[43m]\u001b[49m\u001b[43m)\u001b[49m\n\u001b[0;32m     25\u001b[0m     model\u001b[38;5;241m.\u001b[39meval()\n\u001b[0;32m     26\u001b[0m \u001b[38;5;28;01melse\u001b[39;00m:\n",
      "File \u001b[1;32mc:\\Users\\computer\\Desktop\\Code\\bell\\Lib\\site-packages\\torch\\nn\\modules\\module.py:2215\u001b[0m, in \u001b[0;36mModule.load_state_dict\u001b[1;34m(self, state_dict, strict, assign)\u001b[0m\n\u001b[0;32m   2210\u001b[0m         error_msgs\u001b[38;5;241m.\u001b[39minsert(\n\u001b[0;32m   2211\u001b[0m             \u001b[38;5;241m0\u001b[39m, \u001b[38;5;124m'\u001b[39m\u001b[38;5;124mMissing key(s) in state_dict: \u001b[39m\u001b[38;5;132;01m{}\u001b[39;00m\u001b[38;5;124m. \u001b[39m\u001b[38;5;124m'\u001b[39m\u001b[38;5;241m.\u001b[39mformat(\n\u001b[0;32m   2212\u001b[0m                 \u001b[38;5;124m'\u001b[39m\u001b[38;5;124m, \u001b[39m\u001b[38;5;124m'\u001b[39m\u001b[38;5;241m.\u001b[39mjoin(\u001b[38;5;124mf\u001b[39m\u001b[38;5;124m'\u001b[39m\u001b[38;5;124m\"\u001b[39m\u001b[38;5;132;01m{\u001b[39;00mk\u001b[38;5;132;01m}\u001b[39;00m\u001b[38;5;124m\"\u001b[39m\u001b[38;5;124m'\u001b[39m \u001b[38;5;28;01mfor\u001b[39;00m k \u001b[38;5;129;01min\u001b[39;00m missing_keys)))\n\u001b[0;32m   2214\u001b[0m \u001b[38;5;28;01mif\u001b[39;00m \u001b[38;5;28mlen\u001b[39m(error_msgs) \u001b[38;5;241m>\u001b[39m \u001b[38;5;241m0\u001b[39m:\n\u001b[1;32m-> 2215\u001b[0m     \u001b[38;5;28;01mraise\u001b[39;00m \u001b[38;5;167;01mRuntimeError\u001b[39;00m(\u001b[38;5;124m'\u001b[39m\u001b[38;5;124mError(s) in loading state_dict for \u001b[39m\u001b[38;5;132;01m{}\u001b[39;00m\u001b[38;5;124m:\u001b[39m\u001b[38;5;130;01m\\n\u001b[39;00m\u001b[38;5;130;01m\\t\u001b[39;00m\u001b[38;5;132;01m{}\u001b[39;00m\u001b[38;5;124m'\u001b[39m\u001b[38;5;241m.\u001b[39mformat(\n\u001b[0;32m   2216\u001b[0m                        \u001b[38;5;28mself\u001b[39m\u001b[38;5;241m.\u001b[39m\u001b[38;5;18m__class__\u001b[39m\u001b[38;5;241m.\u001b[39m\u001b[38;5;18m__name__\u001b[39m, \u001b[38;5;124m\"\u001b[39m\u001b[38;5;130;01m\\n\u001b[39;00m\u001b[38;5;130;01m\\t\u001b[39;00m\u001b[38;5;124m\"\u001b[39m\u001b[38;5;241m.\u001b[39mjoin(error_msgs)))\n\u001b[0;32m   2217\u001b[0m \u001b[38;5;28;01mreturn\u001b[39;00m _IncompatibleKeys(missing_keys, unexpected_keys)\n",
      "\u001b[1;31mRuntimeError\u001b[0m: Error(s) in loading state_dict for VGG16Custom:\n\tMissing key(s) in state_dict: \"classifier.2.weight\", \"classifier.2.bias\", \"classifier.4.weight\", \"classifier.4.bias\". \n\tUnexpected key(s) in state_dict: \"classifier.6.weight\", \"classifier.6.bias\", \"classifier.3.weight\", \"classifier.3.bias\". "
     ]
    }
   ],
   "source": [
    "import torch\n",
    "from torchvision import transforms\n",
    "from PIL import Image\n",
    "import os\n",
    "import matplotlib.pyplot as plt\n",
    "from Flood_VGG16 import VGG16Custom  # Import the custom VGG16 model class\n",
    "\n",
    "# Device 설정 (GPU가 있으면 사용)\n",
    "device = torch.device(\"cuda\" if torch.cuda.is_available() else \"cpu\")\n",
    "\n",
    "# 이미지 전처리: Flood_VGG16.py에서 사용한 동일한 전처리를 적용\n",
    "transform = transforms.Compose([\n",
    "    transforms.Lambda(lambda img: transforms.functional.center_crop(img, min(img.size))),\n",
    "    transforms.Resize((225, 225)),\n",
    "    transforms.ToTensor()\n",
    "])\n",
    "\n",
    "# 모델 불러오기 및 체크포인트 로드\n",
    "model = VGG16Custom(num_classes=5).to(device)\n",
    "checkpoint_path = r'C:\\Users\\computer\\Desktop\\Code\\KISTI\\Flood\\checkpoint\\vgg16_best_checkpoint_v2.pth'\n",
    "\n",
    "if os.path.exists(checkpoint_path):\n",
    "    checkpoint = torch.load(checkpoint_path, map_location=device)\n",
    "    model.load_state_dict(checkpoint['model_state_dict'])\n",
    "    model.eval()\n",
    "else:\n",
    "    print(\"Checkpoint 파일을 찾을 수 없습니다.\")\n",
    "    exit()\n",
    "\n",
    "# 추론할 이미지 파일 경로 리스트 설정\n",
    "image_paths = [\n",
    "    r'C:\\Users\\computer\\Desktop\\Code\\KISTI\\Flood\\dataset\\test\\2\\21.png',\n",
    "    # Add 9 more image paths here\n",
    "]\n",
    "\n",
    "# 클래스 이름 설정\n",
    "class_names = ['1', '2', '3', '4', '5']  # 폴더 이름과 같은 클래스 이름\n",
    "\n",
    "# 각 이미지에 대해 추론하고, 결과를 보여줌\n",
    "plt.figure(figsize=(15, 10))\n",
    "for idx, image_path in enumerate(image_paths):\n",
    "    image = Image.open(image_path).convert('RGB')\n",
    "    image_tensor = transform(image).unsqueeze(0).to(device)\n",
    "    \n",
    "    with torch.no_grad():\n",
    "        output = model(image_tensor)\n",
    "        _, predicted = torch.max(output, 1)\n",
    "    \n",
    "    predicted_class = class_names[predicted.item()]\n",
    "    \n",
    "    # 이미지와 예측 결과를 화면에 표시\n",
    "    plt.subplot(2, 5, idx + 1)\n",
    "    plt.imshow(image)\n",
    "    plt.title(f\"Predicted: {predicted_class}\")\n",
    "    plt.axis('off')\n",
    "\n",
    "plt.tight_layout()\n",
    "plt.show()\n"
   ]
  },
  {
   "cell_type": "code",
   "execution_count": 52,
   "id": "e8c1e5f9-88db-4d69-873a-a1a52cc3b547",
   "metadata": {},
   "outputs": [
    {
     "name": "stdout",
     "output_type": "stream",
     "text": [
      "예측된 클래스: 5\n"
     ]
    },
    {
     "data": {
      "image/png": "[encoded data removed]",
      "text/plain": [
       "<Figure size 1200x1200 with 1 Axes>"
      ]
     },
     "metadata": {},
     "output_type": "display_data"
    }
   ],
   "source": [
    "import torch\n",
    "from torchvision import transforms\n",
    "from PIL import Image\n",
    "import os\n",
    "import matplotlib.pyplot as plt\n",
    "from Flood_VGG16 import VGG16Custom  # Flood_VGG16.py 파일에서 VGG16Custom 클래스를 불러옴\n",
    "\n",
    "# Device 설정 (GPU가 있으면 사용)\n",
    "device = torch.device(\"cuda\" if torch.cuda.is_available() else \"cpu\")\n",
    "\n",
    "# 이미지 전처리: Flood_VGG16.py에서 사용한 동일한 전처리를 적용\n",
    "transform = transforms.Compose([\n",
    "    transforms.Lambda(lambda img: transforms.functional.center_crop(img, min(img.size))),\n",
    "    transforms.Resize((225, 225)),\n",
    "    transforms.ToTensor()\n",
    "])\n",
    "\n",
    "# 모델 불러오기 및 체크포인트 로드\n",
    "model = VGG16Custom(num_classes=5).to(device)\n",
    "checkpoint_path = r'C:\\Users\\computer\\Desktop\\Code\\KISTI\\Flood\\checkpoint\\vgg16_best_checkpoint_v2.pth'  # 저장된 체크포인트 파일 경로\n",
    "# if os.path.exists(checkpoint_path):\n",
    "#     checkpoint = torch.load(checkpoint_path, map_location=device)\n",
    "#     model.load_state_dict(checkpoint['model_state_dict'])\n",
    "#     model.eval()\n",
    "# else:\n",
    "#     print(\"Checkpoint 파일을 찾을 수 없습니다.\")\n",
    "#     exit()\n",
    "\n",
    "# 추론할 이미지 파일 경로 설정\n",
    "image_path = [r'C:\\Users\\computer\\Desktop\\Code\\KISTI\\Flood\\dataset\\test\\5\\5_34.jpg']\n",
    "\n",
    "for i in range(len(image_path)):\n",
    "    # 이미지 로드 및 전처리\n",
    "    image = Image.open(image_path[i]).convert('RGB')  # 이미지를 RGB로 변환하여 3채널로 맞춤\n",
    "    image_tensor = transform(image).unsqueeze(0).to(device)  # 배치 차원 추가 및 디바이스로 이동\n",
    "\n",
    "    # 모델을 사용하여 추론\n",
    "    with torch.no_grad():\n",
    "        output = model(image_tensor)\n",
    "        _, predicted = torch.max(output, 1)\n",
    "\n",
    "    # 결과 출력\n",
    "    class_names = ['1', '2', '3', '4', '5']  # 폴더 이름과 같은 클래스 이름\n",
    "    predicted_class = class_names[predicted.item()]\n",
    "    print(f\"예측된 클래스: {predicted_class}\")\n",
    "\n",
    "    # 결과 시각화\n",
    "    plt.figure(figsize=(12, 12))\n",
    "    plt.subplot(1, 10, i+1)\n",
    "    plt.imshow(image)\n",
    "    plt.title(f\"Predicted: {predicted_class}\")\n",
    "    plt.axis('off')  # 축 숨기기\n",
    "    save_path = r\"C:\\Users\\computer\\Desktop\\hi\\predicted_image.png\"  # 이미지 저장 경로 설정\n",
    "    plt.savefig(save_path)  # 예측 결과가 포함된 이미지 저장\n",
    "plt.show()  # 결과를 화면에 출력\n"
   ]
  },
  {
   "cell_type": "code",
   "execution_count": null,
   "id": "5e85ee00",
   "metadata": {},
   "outputs": [],
   "source": []
  }
 ],
 "metadata": {
  "kernelspec": {
   "display_name": "bell",
   "language": "python",
   "name": "python3"
  },
  "language_info": {
   "codemirror_mode": {
    "name": "ipython",
    "version": 3
   },
   "file_extension": ".py",
   "mimetype": "text/x-python",
   "name": "python",
   "nbconvert_exporter": "python",
   "pygments_lexer": "ipython3",
   "version": "3.12.6"
  }
 },
 "nbformat": 4,
 "nbformat_minor": 5
}
