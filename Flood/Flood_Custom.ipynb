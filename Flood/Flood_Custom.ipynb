{
 "cells": [
  {
   "cell_type": "code",
   "execution_count": 14,
   "metadata": {},
   "outputs": [],
   "source": [
    "import torch\n",
    "import torch.nn as nn\n",
    "import torch.optim as optim\n",
    "import torch.nn.functional as F\n",
    "from torch.utils.data import DataLoader\n",
    "from torchvision import datasets, transforms\n",
    "from torchvision.models import VGG\n",
    "#from torchviz import make_dot\n",
    "from torchsummary import summary  # 모델 아키텍처 요약을 위한 라이브러리\n",
    "import matplotlib.pyplot as plt\n",
    "import os\n",
    "from tqdm import tqdm\n",
    "\n",
    "# 장치 설정: GPU 사용 가능 시 GPU로 설정\n",
    "device = torch.device(\"cuda\" if torch.cuda.is_available() else \"cpu\")"
   ]
  },
  {
   "cell_type": "code",
   "execution_count": 15,
   "metadata": {},
   "outputs": [],
   "source": [
    "# 이미지 변환: 센터 크롭 후 125x125로 리사이즈\n",
    "transform = transforms.Compose([\n",
    "    transforms.Lambda(lambda img: transforms.functional.center_crop(img, min(img.size))),\n",
    "    transforms.Resize((125, 125)),\n",
    "    transforms.ToTensor()\n",
    "])\n",
    "\n",
    "# # 이미지 변환: 센터 크롭 후 225x225로 리사이즈\n",
    "# transform = transforms.Compose([\n",
    "#     transforms.Lambda(lambda img: transforms.functional.center_crop(img, min(img.size))),\n",
    "#     transforms.Resize((225, 225)),\n",
    "#     transforms.ToTensor()\n",
    "# ])"
   ]
  },
  {
   "cell_type": "code",
   "execution_count": 16,
   "metadata": {},
   "outputs": [],
   "source": [
    "# 데이터셋 경로 설정\n",
    "train_data_dir = r'C:\\Users\\computer\\Desktop\\Code\\KISTI\\Flood\\dataset\\train'\n",
    "test_data_dir = r'C:\\Users\\computer\\Desktop\\Code\\KISTI\\Flood\\dataset\\test'\n",
    "validation_data_dir = r'C:\\Users\\computer\\Desktop\\Code\\KISTI\\Flood\\dataset\\validation'\n",
    "\n",
    "# 이미지 파일 유효성 검사 함수 정의 (유효한 확장자 체크)\n",
    "def is_valid_image_file(file_path):\n",
    "    return file_path.lower().endswith(('.jpg', '.jpeg', '.png', '.tiff', '.bmp'))\n",
    "\n",
    "# 훈련, 테스트, 검증 데이터셋 설정, 유효한 이미지 파일만 포함\n",
    "train_dataset = datasets.ImageFolder(root=train_data_dir, transform=transform, is_valid_file=is_valid_image_file)\n",
    "test_dataset = datasets.ImageFolder(root=test_data_dir, transform=transform, is_valid_file=is_valid_image_file)\n",
    "val_dataset = datasets.ImageFolder(root=validation_data_dir, transform=transform, is_valid_file=is_valid_image_file)\n",
    "\n",
    "# 데이터로더 설정: 배치 크기 32, 훈련 데이터는 셔플\n",
    "train_loader = DataLoader(train_dataset, batch_size=32, shuffle=True)\n",
    "test_loader = DataLoader(test_dataset, batch_size=32, shuffle=False)\n",
    "val_loader = DataLoader(val_dataset, batch_size=32, shuffle=False)"
   ]
  },
  {
   "cell_type": "code",
   "execution_count": 23,
   "metadata": {},
   "outputs": [],
   "source": [
    "class CustomModel(nn.Module):\n",
    "    def __init__(self, num_classes):\n",
    "        super(CustomModel, self).__init__()\n",
    "        self.Conv = nn.Sequential(\n",
    "            nn.Conv2d(3, 32, 3),\n",
    "            nn.ReLU(True),\n",
    "            nn.MaxPool2d(2, 2),\n",
    "            nn.Conv2d(32, 32, 3),\n",
    "            nn.ReLU(True),\n",
    "            nn.MaxPool2d(2, 2),\n",
    "            nn.Conv2d(32, 64, 3),\n",
    "            nn.ReLU(True),\n",
    "            nn.MaxPool2d(2, 2),\n",
    "            nn.Conv2d(64, 64, 3),\n",
    "            nn.ReLU(True),\n",
    "            nn.MaxPool2d(2, 2),\n",
    "            nn.Conv2d(64, 128, 3),\n",
    "            nn.ReLU(True),\n",
    "            nn.MaxPool2d(2, 2),\n",
    "        )\n",
    "\n",
    "        self.Fully_Connect = nn.Sequential(\n",
    "            nn.Linear(128 * 1 * 1, 128),\n",
    "            nn.ReLU(True),\n",
    "            nn.Linear(128, 64),\n",
    "            nn.ReLU(True),\n",
    "            nn.Linear(64, num_classes)\n",
    "        )\n",
    "\n",
    "        #이미지 크기가 225*225일때\n",
    "        #     self.Fully_Connect = nn.Sequential(\n",
    "        #     nn.Linear(128 * 5 * 5, 128),\n",
    "        #     nn.ReLU(True),\n",
    "        #     nn.Linear(128, 64),\n",
    "        #     nn.ReLU(True),\n",
    "        #     nn.Linear(64, num_classes)\n",
    "        # )\n",
    "\n",
    "        \n",
    "    def forward(self, x):\n",
    "        x = self.Conv(x)\n",
    "        x = x.view(x.size(0), -1)\n",
    "        x = self.Fully_Connect(x)\n",
    "\n",
    "        return x"
   ]
  },
  {
   "cell_type": "code",
   "execution_count": 24,
   "metadata": {},
   "outputs": [],
   "source": [
    "model = CustomModel(num_classes=5).to(device)\n",
    "criterion = nn.CrossEntropyLoss()\n",
    "optimizer = optim.SGD(model.parameters(), lr=0.0001)"
   ]
  },
  {
   "cell_type": "code",
   "execution_count": 25,
   "metadata": {},
   "outputs": [
    {
     "name": "stderr",
     "output_type": "stream",
     "text": [
      "Epoch 1/100: 100%|██████████| 33/33 [00:01<00:00, 23.41batch/s, loss=1.61]\n",
      "Epoch 2/100: 100%|██████████| 33/33 [00:01<00:00, 29.85batch/s, loss=1.61]\n",
      "Epoch 3/100: 100%|██████████| 33/33 [00:01<00:00, 28.50batch/s, loss=1.61]\n",
      "Epoch 4/100: 100%|██████████| 33/33 [00:01<00:00, 27.51batch/s, loss=1.61]\n",
      "Epoch 5/100: 100%|██████████| 33/33 [00:01<00:00, 27.10batch/s, loss=1.61]\n",
      "Epoch 6/100: 100%|██████████| 33/33 [00:01<00:00, 25.33batch/s, loss=1.61]\n",
      "Epoch 7/100: 100%|██████████| 33/33 [00:01<00:00, 25.72batch/s, loss=1.61]\n",
      "Epoch 8/100: 100%|██████████| 33/33 [00:01<00:00, 24.66batch/s, loss=1.61]\n",
      "Epoch 9/100: 100%|██████████| 33/33 [00:01<00:00, 23.77batch/s, loss=1.61]\n",
      "Epoch 10/100: 100%|██████████| 33/33 [00:01<00:00, 23.52batch/s, loss=1.61]\n",
      "Epoch 11/100: 100%|██████████| 33/33 [00:01<00:00, 23.93batch/s, loss=1.61]\n",
      "Epoch 12/100: 100%|██████████| 33/33 [00:01<00:00, 24.68batch/s, loss=1.61]\n",
      "Epoch 13/100: 100%|██████████| 33/33 [00:01<00:00, 24.27batch/s, loss=1.61]\n",
      "Epoch 14/100: 100%|██████████| 33/33 [00:01<00:00, 24.65batch/s, loss=1.61]\n",
      "Epoch 15/100: 100%|██████████| 33/33 [00:01<00:00, 24.57batch/s, loss=1.61]\n",
      "Epoch 16/100: 100%|██████████| 33/33 [00:01<00:00, 24.28batch/s, loss=1.61]\n",
      "Epoch 17/100: 100%|██████████| 33/33 [00:01<00:00, 25.10batch/s, loss=1.61]\n",
      "Epoch 18/100: 100%|██████████| 33/33 [00:01<00:00, 24.33batch/s, loss=1.61]\n",
      "Epoch 19/100: 100%|██████████| 33/33 [00:01<00:00, 24.43batch/s, loss=1.61]\n",
      "Epoch 20/100: 100%|██████████| 33/33 [00:01<00:00, 23.67batch/s, loss=1.61]\n",
      "Epoch 21/100: 100%|██████████| 33/33 [00:01<00:00, 23.90batch/s, loss=1.61]\n",
      "Epoch 22/100: 100%|██████████| 33/33 [00:01<00:00, 24.14batch/s, loss=1.61]\n",
      "Epoch 23/100: 100%|██████████| 33/33 [00:01<00:00, 23.70batch/s, loss=1.61]\n",
      "Epoch 24/100: 100%|██████████| 33/33 [00:01<00:00, 23.77batch/s, loss=1.61]\n",
      "Epoch 25/100: 100%|██████████| 33/33 [00:01<00:00, 23.74batch/s, loss=1.61]\n",
      "Epoch 26/100: 100%|██████████| 33/33 [00:01<00:00, 24.14batch/s, loss=1.61]\n",
      "Epoch 27/100: 100%|██████████| 33/33 [00:01<00:00, 24.26batch/s, loss=1.61]\n",
      "Epoch 28/100: 100%|██████████| 33/33 [00:01<00:00, 23.61batch/s, loss=1.61]\n",
      "Epoch 29/100: 100%|██████████| 33/33 [00:01<00:00, 23.70batch/s, loss=1.61]\n",
      "Epoch 30/100: 100%|██████████| 33/33 [00:01<00:00, 23.90batch/s, loss=1.61]\n",
      "Epoch 31/100: 100%|██████████| 33/33 [00:01<00:00, 24.45batch/s, loss=1.61]\n",
      "Epoch 32/100: 100%|██████████| 33/33 [00:01<00:00, 23.65batch/s, loss=1.61]\n",
      "Epoch 33/100: 100%|██████████| 33/33 [00:01<00:00, 24.29batch/s, loss=1.61]\n",
      "Epoch 34/100: 100%|██████████| 33/33 [00:01<00:00, 23.74batch/s, loss=1.61]\n",
      "Epoch 35/100: 100%|██████████| 33/33 [00:01<00:00, 24.54batch/s, loss=1.61]\n",
      "Epoch 36/100: 100%|██████████| 33/33 [00:01<00:00, 24.15batch/s, loss=1.61]\n",
      "Epoch 37/100: 100%|██████████| 33/33 [00:01<00:00, 23.88batch/s, loss=1.61]\n",
      "Epoch 38/100: 100%|██████████| 33/33 [00:01<00:00, 23.89batch/s, loss=1.61]\n",
      "Epoch 39/100: 100%|██████████| 33/33 [00:01<00:00, 24.02batch/s, loss=1.61]\n",
      "Epoch 40/100: 100%|██████████| 33/33 [00:01<00:00, 24.76batch/s, loss=1.61]\n",
      "Epoch 41/100: 100%|██████████| 33/33 [00:01<00:00, 24.72batch/s, loss=1.61]\n",
      "Epoch 42/100: 100%|██████████| 33/33 [00:01<00:00, 23.33batch/s, loss=1.61]\n",
      "Epoch 43/100: 100%|██████████| 33/33 [00:01<00:00, 23.62batch/s, loss=1.61]\n",
      "Epoch 44/100: 100%|██████████| 33/33 [00:01<00:00, 25.19batch/s, loss=1.61]\n",
      "Epoch 45/100: 100%|██████████| 33/33 [00:01<00:00, 23.61batch/s, loss=1.61]\n",
      "Epoch 46/100: 100%|██████████| 33/33 [00:01<00:00, 24.20batch/s, loss=1.61]\n",
      "Epoch 47/100: 100%|██████████| 33/33 [00:01<00:00, 22.83batch/s, loss=1.61]\n",
      "Epoch 48/100: 100%|██████████| 33/33 [00:01<00:00, 23.77batch/s, loss=1.61]\n",
      "Epoch 49/100: 100%|██████████| 33/33 [00:01<00:00, 24.30batch/s, loss=1.61]\n",
      "Epoch 50/100: 100%|██████████| 33/33 [00:01<00:00, 23.72batch/s, loss=1.61]\n",
      "Epoch 51/100: 100%|██████████| 33/33 [00:01<00:00, 24.98batch/s, loss=1.61]\n",
      "Epoch 52/100: 100%|██████████| 33/33 [00:01<00:00, 24.24batch/s, loss=1.61]\n",
      "Epoch 53/100: 100%|██████████| 33/33 [00:01<00:00, 23.59batch/s, loss=1.61]\n",
      "Epoch 54/100: 100%|██████████| 33/33 [00:01<00:00, 24.52batch/s, loss=1.61]\n",
      "Epoch 55/100: 100%|██████████| 33/33 [00:01<00:00, 25.25batch/s, loss=1.61]\n",
      "Epoch 56/100: 100%|██████████| 33/33 [00:01<00:00, 24.55batch/s, loss=1.61]\n",
      "Epoch 57/100: 100%|██████████| 33/33 [00:01<00:00, 23.84batch/s, loss=1.61]\n",
      "Epoch 58/100: 100%|██████████| 33/33 [00:01<00:00, 24.72batch/s, loss=1.61]\n",
      "Epoch 59/100: 100%|██████████| 33/33 [00:01<00:00, 24.62batch/s, loss=1.61]\n",
      "Epoch 60/100: 100%|██████████| 33/33 [00:01<00:00, 24.70batch/s, loss=1.61]\n",
      "Epoch 61/100: 100%|██████████| 33/33 [00:01<00:00, 24.77batch/s, loss=1.61]\n",
      "Epoch 62/100: 100%|██████████| 33/33 [00:01<00:00, 23.97batch/s, loss=1.61]\n",
      "Epoch 63/100: 100%|██████████| 33/33 [00:01<00:00, 23.88batch/s, loss=1.61]\n",
      "Epoch 64/100: 100%|██████████| 33/33 [00:01<00:00, 23.94batch/s, loss=1.61]\n",
      "Epoch 65/100: 100%|██████████| 33/33 [00:01<00:00, 23.79batch/s, loss=1.61]\n",
      "Epoch 66/100: 100%|██████████| 33/33 [00:01<00:00, 23.71batch/s, loss=1.61]\n",
      "Epoch 67/100: 100%|██████████| 33/33 [00:01<00:00, 24.09batch/s, loss=1.61]\n",
      "Epoch 68/100: 100%|██████████| 33/33 [00:01<00:00, 23.64batch/s, loss=1.61]\n",
      "Epoch 69/100: 100%|██████████| 33/33 [00:01<00:00, 25.59batch/s, loss=1.61]\n",
      "Epoch 70/100: 100%|██████████| 33/33 [00:01<00:00, 25.23batch/s, loss=1.61]\n",
      "Epoch 71/100: 100%|██████████| 33/33 [00:01<00:00, 23.49batch/s, loss=1.61]\n",
      "Epoch 72/100: 100%|██████████| 33/33 [00:01<00:00, 24.43batch/s, loss=1.61]\n",
      "Epoch 73/100: 100%|██████████| 33/33 [00:01<00:00, 24.56batch/s, loss=1.61]\n",
      "Epoch 74/100: 100%|██████████| 33/33 [00:01<00:00, 23.50batch/s, loss=1.61]\n",
      "Epoch 75/100: 100%|██████████| 33/33 [00:01<00:00, 24.54batch/s, loss=1.61]\n",
      "Epoch 76/100: 100%|██████████| 33/33 [00:01<00:00, 23.86batch/s, loss=1.61]\n",
      "Epoch 77/100: 100%|██████████| 33/33 [00:01<00:00, 23.69batch/s, loss=1.61]\n",
      "Epoch 78/100: 100%|██████████| 33/33 [00:01<00:00, 24.26batch/s, loss=1.61]\n",
      "Epoch 79/100: 100%|██████████| 33/33 [00:01<00:00, 23.54batch/s, loss=1.61]\n",
      "Epoch 80/100: 100%|██████████| 33/33 [00:01<00:00, 23.19batch/s, loss=1.61]\n",
      "Epoch 81/100: 100%|██████████| 33/33 [00:01<00:00, 24.78batch/s, loss=1.61]\n",
      "Epoch 82/100: 100%|██████████| 33/33 [00:01<00:00, 24.78batch/s, loss=1.61]\n",
      "Epoch 83/100: 100%|██████████| 33/33 [00:01<00:00, 24.14batch/s, loss=1.61]\n",
      "Epoch 84/100: 100%|██████████| 33/33 [00:01<00:00, 23.84batch/s, loss=1.61]\n",
      "Epoch 85/100: 100%|██████████| 33/33 [00:01<00:00, 23.73batch/s, loss=1.61]\n",
      "Epoch 86/100: 100%|██████████| 33/33 [00:01<00:00, 24.13batch/s, loss=1.61]\n",
      "Epoch 87/100: 100%|██████████| 33/33 [00:01<00:00, 24.25batch/s, loss=1.61]\n",
      "Epoch 88/100: 100%|██████████| 33/33 [00:01<00:00, 23.42batch/s, loss=1.61]\n",
      "Epoch 89/100: 100%|██████████| 33/33 [00:01<00:00, 24.69batch/s, loss=1.61]\n",
      "Epoch 90/100: 100%|██████████| 33/33 [00:01<00:00, 25.48batch/s, loss=1.61]\n",
      "Epoch 91/100: 100%|██████████| 33/33 [00:01<00:00, 24.43batch/s, loss=1.61]\n",
      "Epoch 92/100: 100%|██████████| 33/33 [00:01<00:00, 22.92batch/s, loss=1.61]\n",
      "Epoch 93/100: 100%|██████████| 33/33 [00:01<00:00, 24.24batch/s, loss=1.61]\n",
      "Epoch 94/100: 100%|██████████| 33/33 [00:01<00:00, 25.05batch/s, loss=1.61]\n",
      "Epoch 95/100: 100%|██████████| 33/33 [00:01<00:00, 23.07batch/s, loss=1.61]\n",
      "Epoch 96/100: 100%|██████████| 33/33 [00:01<00:00, 25.54batch/s, loss=1.61]\n",
      "Epoch 97/100: 100%|██████████| 33/33 [00:01<00:00, 24.76batch/s, loss=1.61]\n",
      "Epoch 98/100: 100%|██████████| 33/33 [00:01<00:00, 23.51batch/s, loss=1.61]\n",
      "Epoch 99/100: 100%|██████████| 33/33 [00:01<00:00, 24.36batch/s, loss=1.61]\n",
      "Epoch 100/100: 100%|██████████| 33/33 [00:01<00:00, 25.32batch/s, loss=1.61]\n"
     ]
    }
   ],
   "source": [
    "for epoch in range(100):\n",
    "    \n",
    "    running_loss = 0.0\n",
    "    \n",
    "    with tqdm(total=len(train_loader), desc=f\"Epoch {epoch+1}/{100}\", unit=\"batch\") as pbar:\n",
    "        for i, data in enumerate(train_loader, 0):\n",
    "            inputs, labels = data\n",
    "            inputs, labels = inputs.to(device), labels.to(device)\n",
    "            optimizer.zero_grad()\n",
    "            \n",
    "            outputs = model(inputs)\n",
    "            loss = criterion(outputs, labels)\n",
    "            loss.backward()\n",
    "            optimizer.step()\n",
    "            \n",
    "            running_loss += loss.item()\n",
    "            \n",
    "            pbar.set_postfix(loss=running_loss / (pbar.n + 1))\n",
    "            pbar.update(1)\n",
    "        \n",
    "        # if i % 100 == 99:\n",
    "        #     print('Epoch: {}, Iter: {}, Loss: {}'.format(epoch+1, i+1, running_loss/2000))\n",
    "        #     running_loss = 0.0"
   ]
  },
  {
   "cell_type": "code",
   "execution_count": 20,
   "metadata": {},
   "outputs": [],
   "source": [
    "PATH = './CustomModel.pth'\n",
    "torch.save(model.state_dict(), PATH)"
   ]
  },
  {
   "cell_type": "code",
   "execution_count": 21,
   "metadata": {},
   "outputs": [
    {
     "name": "stderr",
     "output_type": "stream",
     "text": [
      "C:\\Users\\computer\\AppData\\Local\\Temp\\ipykernel_19448\\3817668521.py:2: FutureWarning: You are using `torch.load` with `weights_only=False` (the current default value), which uses the default pickle module implicitly. It is possible to construct malicious pickle data which will execute arbitrary code during unpickling (See https://github.com/pytorch/pytorch/blob/main/SECURITY.md#untrusted-models for more details). In a future release, the default value for `weights_only` will be flipped to `True`. This limits the functions that could be executed during unpickling. Arbitrary objects will no longer be allowed to be loaded via this mode unless they are explicitly allowlisted by the user via `torch.serialization.add_safe_globals`. We recommend you start setting `weights_only=True` for any use case where you don't have full control of the loaded file. Please open an issue on GitHub for any issues related to this experimental feature.\n",
      "  model.load_state_dict(torch.load(PATH))\n"
     ]
    },
    {
     "data": {
      "text/plain": [
       "<All keys matched successfully>"
      ]
     },
     "execution_count": 21,
     "metadata": {},
     "output_type": "execute_result"
    }
   ],
   "source": [
    "model = CustomModel(5)\n",
    "model.load_state_dict(torch.load(PATH))"
   ]
  },
  {
   "cell_type": "code",
   "execution_count": 22,
   "metadata": {},
   "outputs": [
    {
     "name": "stdout",
     "output_type": "stream",
     "text": [
      "20.0\n"
     ]
    }
   ],
   "source": [
    "correct = 0\n",
    "total = 0\n",
    "\n",
    "with torch.no_grad():\n",
    "    for data in test_loader:\n",
    "        images, labels = data\n",
    "        outputs = model(images)\n",
    "        _, predicted = torch.max(outputs.data, 1)\n",
    "        total += labels.size(0)\n",
    "        correct += (predicted == labels).sum().item()\n",
    "        \n",
    "print(100 * correct / total)"
   ]
  },
  {
   "cell_type": "code",
   "execution_count": null,
   "metadata": {},
   "outputs": [],
   "source": []
  }
 ],
 "metadata": {
  "kernelspec": {
   "display_name": "bell",
   "language": "python",
   "name": "python3"
  },
  "language_info": {
   "codemirror_mode": {
    "name": "ipython",
    "version": 3
   },
   "file_extension": ".py",
   "mimetype": "text/x-python",
   "name": "python",
   "nbconvert_exporter": "python",
   "pygments_lexer": "ipython3",
   "version": "3.12.6"
  }
 },
 "nbformat": 4,
 "nbformat_minor": 2
}
